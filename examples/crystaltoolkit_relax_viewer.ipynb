{
 "cells": [
  {
   "attachments": {},
   "cell_type": "markdown",
   "id": "f8c75a16",
   "metadata": {},
   "source": [
    "# Crystaltoolkit Relaxation Viewer\n",
    "\n",
    "This notebook shows how to visualize a CHGNet relaxation trajectory in a Plotly Dash app using Crystal Toolkit.\n"
   ]
  },
  {
   "attachments": {},
   "cell_type": "markdown",
   "id": "a51da8f4",
   "metadata": {},
   "source": [
    "Running the last cell in this notebook should spin up a `dash` app that looks like this:\n",
    "\n",
    "![Crystaltoolkit Relaxation Viewer Screenshot](https://user-images.githubusercontent.com/30958850/230510639-2e659c9b-3a99-438b-9668-628299171602.png)\n"
   ]
  },
  {
   "cell_type": "code",
   "execution_count": null,
   "id": "156e8031",
   "metadata": {},
   "outputs": [
    {
     "name": "stdout",
     "output_type": "stream",
     "text": [
      "Cloning into 'chgnet'...\n",
      "remote: Enumerating objects: 50, done.\u001b[K\n",
      "remote: Counting objects: 100% (50/50), done.\u001b[K\n",
      "remote: Compressing objects: 100% (47/47), done.\u001b[K\n",
      "remote: Total 50 (delta 1), reused 17 (delta 0), pack-reused 0\u001b[K\n",
      "Receiving objects: 100% (50/50), 4.25 MiB | 2.70 MiB/s, done.\n",
      "Resolving deltas: 100% (1/1), done.\n",
      "zsh:1: no matches found: ./chgnet[crystal-toolkit]\n"
     ]
    }
   ],
   "source": [
    "from __future__ import annotations\n",
    "\n",
    "# install CHGNet with extra dependency Crystal Toolkit to run the dash app in this notebook\n",
    "# https://github.com/materialsproject/crystaltoolkit\n",
    "# (only needed on Google Colab or if you didn't install these packages yet)\n",
    "!git clone --depth 1 https://github.com/CederGroupHub/chgnet\n",
    "!pip install ./chgnet[crystal-toolkit]"
   ]
  },
  {
   "cell_type": "code",
   "execution_count": null,
   "id": "7ead933c",
   "metadata": {},
   "outputs": [],
   "source": [
    "import numpy as np\n",
    "from pymatgen.core import Structure"
   ]
  },
  {
   "cell_type": "code",
   "execution_count": null,
   "id": "e6792912",
   "metadata": {},
   "outputs": [],
   "source": [
    "try:\n",
    "    from chgnet import ROOT\n",
    "\n",
    "    structure = Structure.from_file(f\"{ROOT}/examples/o-LiMnO2_unit.cif\")\n",
    "except Exception:\n",
    "    from urllib.request import urlopen\n",
    "\n",
    "    url = \"https://github.com/CederGroupHub/chgnet/raw/main/examples/o-LiMnO2_unit.cif\"\n",
    "    cif = urlopen(url).read().decode(\"utf-8\")\n",
    "    structure = Structure.from_str(cif, fmt=\"cif\")"
   ]
  },
  {
   "cell_type": "code",
   "execution_count": null,
   "id": "208fa4aa",
   "metadata": {},
   "outputs": [
    {
     "name": "stdout",
     "output_type": "stream",
     "text": [
      "('Pmmn', 59)\n"
     ]
    },
    {
     "data": {
      "text/plain": [
       "('P1', 1)"
      ]
     },
     "execution_count": null,
     "metadata": {},
     "output_type": "execute_result"
    }
   ],
   "source": [
    "print(f\"original: {structure.get_space_group_info()}\")\n",
    "\n",
    "# perturb all atom positions by a small amount\n",
    "for site in structure:\n",
    "    site.coords += np.random.normal(size=3) * 0.3\n",
    "\n",
    "# stretch the cell by a small amount\n",
    "structure.scale_lattice(structure.volume * 1.1)\n",
    "\n",
    "print(f\"perturbed: {structure.get_space_group_info()}\")"
   ]
  },
  {
   "cell_type": "code",
   "execution_count": null,
   "id": "5d6e9fcc",
   "metadata": {},
   "outputs": [
    {
     "name": "stdout",
     "output_type": "stream",
     "text": [
      "CHGNet initialized with 400,438 parameters\n",
      "CHGNet will run on cpu\n",
      "      Step     Time          Energy         fmax\n",
      "*Force-consistent energies used in optimization.\n",
      "FIRE:    0 16:14:42      -50.368877*      32.5095\n",
      "FIRE:    1 16:14:42      -54.143169*       5.8680\n",
      "FIRE:    2 16:14:42      -54.461754*       5.6230\n",
      "FIRE:    3 16:14:42      -54.960907*       5.8534\n",
      "FIRE:    4 16:14:42      -55.480988*       5.6906\n",
      "FIRE:    5 16:14:42      -55.956520*       5.1693\n",
      "FIRE:    6 16:14:42      -56.459927*       4.8143\n",
      "FIRE:    7 16:14:42      -56.851875*       3.3015\n",
      "FIRE:    8 16:14:42      -57.091263*       4.1499\n",
      "FIRE:    9 16:14:42      -57.331764*       3.1478\n",
      "FIRE:   10 16:14:42      -57.515900*       4.0483\n",
      "FIRE:   11 16:14:42      -57.575695*       3.7472\n",
      "FIRE:   12 16:14:42      -57.666180*       3.2176\n",
      "FIRE:   13 16:14:42      -57.757183*       2.6150\n",
      "FIRE:   14 16:14:42      -57.842495*       2.6404\n",
      "FIRE:   15 16:14:42      -57.929653*       2.8689\n",
      "FIRE:   16 16:14:42      -58.019592*       2.3735\n",
      "FIRE:   17 16:14:42      -58.102535*       1.5942\n",
      "FIRE:   18 16:14:42      -58.176746*       1.5989\n",
      "FIRE:   19 16:14:42      -58.243935*       2.1723\n",
      "FIRE:   20 16:14:42      -58.310703*       1.9688\n",
      "FIRE:   21 16:14:43      -58.363392*       1.4786\n",
      "FIRE:   22 16:14:43      -58.389481*       1.7102\n",
      "FIRE:   23 16:14:43      -58.418602*       1.8503\n",
      "FIRE:   24 16:14:43      -58.471935*       1.1974\n",
      "FIRE:   25 16:14:43      -58.517002*       1.7578\n",
      "FIRE:   26 16:14:43      -58.553810*       1.8129\n",
      "FIRE:   27 16:14:43      -58.613503*       1.6485\n",
      "FIRE:   28 16:14:43      -58.704597*       1.0232\n",
      "FIRE:   29 16:14:43      -58.729168*       2.2496\n",
      "FIRE:   30 16:14:43      -58.753529*       1.2002\n",
      "FIRE:   31 16:14:43      -58.771957*       0.7578\n",
      "FIRE:   32 16:14:43      -58.777966*       1.5446\n",
      "FIRE:   33 16:14:43      -58.780994*       1.3726\n",
      "FIRE:   34 16:14:43      -58.786022*       1.0541\n",
      "FIRE:   35 16:14:43      -58.791451*       0.6607\n",
      "FIRE:   36 16:14:43      -58.795883*       0.6259\n",
      "FIRE:   37 16:14:43      -58.798832*       0.5877\n",
      "FIRE:   38 16:14:43      -58.801147*       0.6803\n",
      "FIRE:   39 16:14:43      -58.804146*       0.8653\n",
      "FIRE:   40 16:14:44      -58.809155*       0.8536\n",
      "FIRE:   41 16:14:44      -58.816200*       0.6149\n",
      "FIRE:   42 16:14:44      -58.823708*       0.4149\n",
      "FIRE:   43 16:14:44      -58.829689*       0.3795\n",
      "FIRE:   44 16:14:44      -58.835079*       0.6436\n",
      "FIRE:   45 16:14:44      -58.842659*       0.5568\n",
      "FIRE:   46 16:14:44      -58.851486*       0.3081\n",
      "FIRE:   47 16:14:44      -58.857994*       0.5840\n",
      "FIRE:   48 16:14:44      -58.865871*       0.6220\n",
      "FIRE:   49 16:14:44      -58.875755*       0.2659\n",
      "FIRE:   50 16:14:44      -58.883583*       0.5791\n",
      "FIRE:   51 16:14:44      -58.895329*       0.2525\n",
      "FIRE:   52 16:14:44      -58.904892*       0.6525\n",
      "FIRE:   53 16:14:44      -58.918137*       0.2268\n",
      "FIRE:   54 16:14:44      -58.928265*       0.4081\n",
      "FIRE:   55 16:14:44      -58.935215*       0.8279\n",
      "FIRE:   56 16:14:44      -58.938522*       0.2784\n",
      "FIRE:   57 16:14:44      -58.939091*       0.4389\n",
      "FIRE:   58 16:14:44      -58.939426*       0.3746\n",
      "FIRE:   59 16:14:45      -58.939934*       0.2563\n",
      "FIRE:   60 16:14:45      -58.940437*       0.1812\n",
      "FIRE:   61 16:14:45      -58.940823*       0.1921\n",
      "FIRE:   62 16:14:45      -58.941128*       0.1983\n",
      "FIRE:   63 16:14:45      -58.941517*       0.2484\n",
      "FIRE:   64 16:14:45      -58.942074*       0.2446\n",
      "FIRE:   65 16:14:45      -58.942848*       0.1787\n",
      "FIRE:   66 16:14:45      -58.943714*       0.1757\n",
      "FIRE:   67 16:14:45      -58.944485*       0.1723\n",
      "FIRE:   68 16:14:45      -58.945293*       0.2152\n",
      "FIRE:   69 16:14:45      -58.946426*       0.1687\n",
      "FIRE:   70 16:14:45      -58.947723*       0.1692\n",
      "FIRE:   71 16:14:45      -58.948978*       0.1853\n",
      "FIRE:   72 16:14:45      -58.950665*       0.1663\n",
      "FIRE:   73 16:14:45      -58.952576*       0.1604\n",
      "FIRE:   74 16:14:46      -58.954712*       0.1559\n",
      "FIRE:   75 16:14:46      -58.957211*       0.1533\n",
      "FIRE:   76 16:14:46      -58.959904*       0.1449\n",
      "FIRE:   77 16:14:46      -58.962624*       0.2165\n",
      "FIRE:   78 16:14:46      -58.965687*       0.1903\n",
      "FIRE:   79 16:14:46      -58.968777*       0.1781\n",
      "FIRE:   80 16:14:46      -58.971272*       0.3301\n",
      "FIRE:   81 16:14:46      -58.970631*       0.8330\n",
      "FIRE:   82 16:14:46      -58.973919*       0.0508\n"
     ]
    }
   ],
   "source": [
    "import pandas as pd\n",
    "\n",
    "from chgnet.model import StructOptimizer\n",
    "\n",
    "trajectory = StructOptimizer().relax(structure)[\"trajectory\"]"
   ]
  },
  {
   "cell_type": "code",
   "execution_count": null,
   "id": "c04ebd43",
   "metadata": {},
   "outputs": [],
   "source": [
    "e_col = \"Energy (eV)\"\n",
    "force_col = \"Force (eV/Å)\"\n",
    "df_traj = pd.DataFrame(trajectory.energies, columns=[e_col])\n",
    "df_traj[force_col] = [\n",
    "    np.linalg.norm(force, axis=1).mean()  # mean of norm of force on each atom\n",
    "    for force in trajectory.forces\n",
    "]\n",
    "df_traj.index.name = \"step\""
   ]
  },
  {
   "cell_type": "code",
   "execution_count": null,
   "id": "e7a91576",
   "metadata": {},
   "outputs": [
    {
     "name": "stdout",
     "output_type": "stream",
     "text": [
      "dft_energy=-59.09 eV (see https://materialsproject.org/materials/mp-18767)\n"
     ]
    }
   ],
   "source": [
    "mp_id = \"mp-18767\"\n",
    "\n",
    "dft_energy = -59.09\n",
    "print(f\"{dft_energy=:.2f} eV (see https://materialsproject.org/materials/{mp_id})\")"
   ]
  },
  {
   "cell_type": "code",
   "execution_count": null,
   "id": "c9f16422",
   "metadata": {},
   "outputs": [
    {
     "name": "stderr",
     "output_type": "stream",
     "text": [
      "/Users/janosh/dev/crystaltoolkit/crystal_toolkit/components/diffraction_tem.py:18: UserWarning: The TEMDiffractionComponent requires the py4DSTEM package.\n",
      "  warn(\"The TEMDiffractionComponent requires the py4DSTEM package.\")\n",
      "/Users/janosh/dev/crystaltoolkit/crystal_toolkit/components/localenv.py:50: UserWarning: Using dscribe SOAP and REMatchKernel requires the dscribe package which was made optional since it in turn requires numba and numba was a common source of installation issues.\n",
      "  warn(\n"
     ]
    },
    {
     "name": "stdout",
     "output_type": "stream",
     "text": [
      "No module named 'phonopy'\n"
     ]
    },
    {
     "data": {
      "text/html": [
       "\n",
       "        <iframe\n",
       "            width=\"100%\"\n",
       "            height=\"800\"\n",
       "            src=\"http://127.0.0.1:8050/\"\n",
       "            frameborder=\"0\"\n",
       "            allowfullscreen\n",
       "            \n",
       "        ></iframe>\n",
       "        "
      ],
      "text/plain": [
       "<IPython.lib.display.IFrame at 0x14d031410>"
      ]
     },
     "metadata": {},
     "output_type": "display_data"
    }
   ],
   "source": [
    "import crystal_toolkit.components as ctc\n",
    "import plotly.graph_objects as go\n",
    "from crystal_toolkit.settings import SETTINGS\n",
    "from dash import dcc, html\n",
    "from dash.dependencies import Input, Output\n",
    "from jupyter_dash import JupyterDash\n",
    "from pymatgen.core import Structure\n",
    "\n",
    "app = JupyterDash(prevent_initial_callbacks=True, assets_folder=SETTINGS.ASSETS_PATH)\n",
    "\n",
    "step_size = max(1, len(trajectory) // 20)  # ensure slider has max 20 steps\n",
    "slider = dcc.Slider(\n",
    "    id=\"slider\", min=0, max=len(trajectory) - 1, step=step_size, updatemode=\"drag\"\n",
    ")\n",
    "\n",
    "\n",
    "def plot_energy_and_forces(\n",
    "    df: pd.DataFrame, step: int, e_col: str, force_col: str, title: str\n",
    ") -> go.Figure:\n",
    "    \"\"\"Plot energy and forces as a function of relaxation step.\"\"\"\n",
    "    fig = go.Figure()\n",
    "    # energy trace = primary y-axis\n",
    "    fig.add_trace(go.Scatter(x=df.index, y=df[e_col], mode=\"lines\", name=\"Energy\"))\n",
    "    # get energy line color\n",
    "    line_color = fig.data[0].line.color\n",
    "\n",
    "    # forces trace = secondary y-axis\n",
    "    fig.add_trace(\n",
    "        go.Scatter(x=df.index, y=df[force_col], mode=\"lines\", name=\"Forces\", yaxis=\"y2\")\n",
    "    )\n",
    "\n",
    "    fig.update_layout(\n",
    "        template=\"plotly_white\",\n",
    "        title=title,\n",
    "        xaxis=dict(title=\"Relaxation Step\"),\n",
    "        yaxis=dict(title=e_col),\n",
    "        yaxis2=dict(title=force_col, overlaying=\"y\", side=\"right\"),\n",
    "        legend=dict(yanchor=\"top\", y=1, xanchor=\"right\", x=1),\n",
    "    )\n",
    "\n",
    "    # vertical line at the specified step\n",
    "    fig.add_vline(x=step, line=dict(dash=\"dash\", width=1))\n",
    "\n",
    "    # horizontal line for DFT final energy\n",
    "    anno = dict(text=\"DFT final energy\", yanchor=\"top\")\n",
    "    fig.add_hline(\n",
    "        y=dft_energy,\n",
    "        line=dict(dash=\"dot\", width=1, color=line_color),\n",
    "        annotation=anno,\n",
    "    )\n",
    "\n",
    "    return fig\n",
    "\n",
    "\n",
    "def make_title(spg_symbol: str, spg_num: int) -> str:\n",
    "    \"\"\"Return a title for the figure.\"\"\"\n",
    "    href = f\"https://materialsproject.org/materials/{mp_id}/\"\n",
    "    return f\"<a {href=}>{mp_id}</a> - {spg_symbol} ({spg_num})\"\n",
    "\n",
    "\n",
    "title = make_title(*structure.get_space_group_info())\n",
    "\n",
    "graph = dcc.Graph(\n",
    "    id=\"fig\",\n",
    "    figure=plot_energy_and_forces(df_traj, 0, e_col, force_col, title),\n",
    "    style={\"maxWidth\": \"50%\"},\n",
    ")\n",
    "\n",
    "struct_comp = ctc.StructureMoleculeComponent(id=\"structure\", struct_or_mol=structure)\n",
    "\n",
    "app.layout = html.Div(\n",
    "    [\n",
    "        html.H1(\n",
    "            \"Structure Relaxation Trajectory\", style=dict(margin=\"1em\", fontSize=\"2em\")\n",
    "        ),\n",
    "        html.P(\"Drag slider to see structure at different relaxation steps.\"),\n",
    "        slider,\n",
    "        html.Div([struct_comp.layout(), graph], style=dict(display=\"flex\", gap=\"2em\")),\n",
    "    ],\n",
    "    style=dict(margin=\"auto\", textAlign=\"center\", maxWidth=\"1200px\", padding=\"2em\"),\n",
    ")\n",
    "\n",
    "ctc.register_crystal_toolkit(app=app, layout=app.layout)\n",
    "\n",
    "\n",
    "@app.callback(\n",
    "    Output(struct_comp.id(), \"data\"), Output(graph, \"figure\"), Input(slider, \"value\")\n",
    ")\n",
    "def update_structure(step: int) -> tuple[Structure, go.Figure]:\n",
    "    \"\"\"Update the structure displayed in the StructureMoleculeComponent and the\n",
    "    dashed vertical line in the figure when the slider is moved.\n",
    "    \"\"\"\n",
    "    lattice = trajectory.cells[step]\n",
    "    coords = trajectory.atom_positions[step]\n",
    "    structure.lattice = lattice  # update structure in place for efficiency\n",
    "    assert len(structure) == len(coords)\n",
    "    for site, coord in zip(structure, coords):\n",
    "        site.coords = coord\n",
    "\n",
    "    title = make_title(*structure.get_space_group_info())\n",
    "    fig = plot_energy_and_forces(df_traj, step, e_col, force_col, title)\n",
    "\n",
    "    return structure, fig\n",
    "\n",
    "\n",
    "app.run_server(mode=\"inline\", height=800, use_reloader=False)"
   ]
  }
 ],
 "metadata": {
  "kernelspec": {
   "display_name": "py310",
   "language": "python",
   "name": "python3"
  },
  "language_info": {
   "codemirror_mode": {
    "name": "ipython",
    "version": 3
   },
   "file_extension": ".py",
   "mimetype": "text/x-python",
   "name": "python",
   "nbconvert_exporter": "python",
   "pygments_lexer": "ipython3",
   "version": "3.11.0"
  }
 },
 "nbformat": 4,
 "nbformat_minor": 5
}

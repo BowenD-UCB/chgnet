{
 "cells": [
  {
   "cell_type": "markdown",
   "id": "f8c75a16",
   "metadata": {},
   "source": [
    "# Crystaltoolkit Relaxation Viewer\n",
    "\n",
    "This notebook shows how to visualize a CHGNet relaxation trajectory in a Plotly Dash app using Crystal Toolkit."
   ]
  },
  {
   "cell_type": "code",
   "execution_count": null,
   "id": "7ead933c",
   "metadata": {},
   "outputs": [],
   "source": [
    "from __future__ import annotations\n",
    "\n",
    "import numpy as np\n",
    "from pymatgen.core import Structure"
   ]
  },
  {
   "cell_type": "code",
   "execution_count": null,
   "id": "208fa4aa",
   "metadata": {},
   "outputs": [
    {
     "name": "stdout",
     "output_type": "stream",
     "text": [
      "('Pmmn', 59)\n"
     ]
    },
    {
     "data": {
      "text/plain": [
       "('P1', 1)"
      ]
     },
     "execution_count": null,
     "metadata": {},
     "output_type": "execute_result"
    }
   ],
   "source": [
    "structure = Structure.from_file(\"./o-LiMnO2_unit.cif\")\n",
    "print(structure.get_space_group_info())\n",
    "\n",
    "# perturb all atom positions by a small amount\n",
    "for site in structure:\n",
    "    site.coords += np.random.normal(size=3) * 0.3\n",
    "\n",
    "# stretch the cell by a small amount\n",
    "structure.scale_lattice(structure.volume * 1.1)\n",
    "\n",
    "structure.get_space_group_info()"
   ]
  },
  {
   "cell_type": "code",
   "execution_count": null,
   "id": "5d6e9fcc",
   "metadata": {},
   "outputs": [
    {
     "name": "stdout",
     "output_type": "stream",
     "text": [
      "CHGNet initialized with 400,438 parameters\n",
      "CHGNet will run on cpu\n"
     ]
    },
    {
     "ename": "Exception",
     "evalue": "input should either be a graph or list of graphs!",
     "output_type": "error",
     "traceback": [
      "\u001b[0;31m---------------------------------------------------------------------------\u001b[0m",
      "\u001b[0;31mException\u001b[0m                                 Traceback (most recent call last)",
      "\u001b[1;32m/Users/janosh/dev/chgnet/examples/crystaltoolkit_relax_viewer.ipynb Cell 4\u001b[0m in \u001b[0;36m5\n\u001b[1;32m      <a href='vscode-notebook-cell:/Users/janosh/dev/chgnet/examples/crystaltoolkit_relax_viewer.ipynb#X44sZmlsZQ%3D%3D?line=0'>1</a>\u001b[0m \u001b[39mimport\u001b[39;00m \u001b[39mpandas\u001b[39;00m \u001b[39mas\u001b[39;00m \u001b[39mpd\u001b[39;00m\n\u001b[1;32m      <a href='vscode-notebook-cell:/Users/janosh/dev/chgnet/examples/crystaltoolkit_relax_viewer.ipynb#X44sZmlsZQ%3D%3D?line=2'>3</a>\u001b[0m \u001b[39mfrom\u001b[39;00m \u001b[39mchgnet\u001b[39;00m\u001b[39m.\u001b[39;00m\u001b[39mmodel\u001b[39;00m \u001b[39mimport\u001b[39;00m StructOptimizer\n\u001b[0;32m----> <a href='vscode-notebook-cell:/Users/janosh/dev/chgnet/examples/crystaltoolkit_relax_viewer.ipynb#X44sZmlsZQ%3D%3D?line=4'>5</a>\u001b[0m results \u001b[39m=\u001b[39m StructOptimizer()\u001b[39m.\u001b[39;49mrelax(structure)\n",
      "File \u001b[0;32m~/dev/chgnet/chgnet/model/dynamics.py:202\u001b[0m, in \u001b[0;36mStructOptimizer.relax\u001b[0;34m(self, atoms, fmax, steps, relax_cell, save_path, trajectory_save_interval, verbose, **kwargs)\u001b[0m\n\u001b[1;32m    200\u001b[0m \u001b[39mif\u001b[39;00m relax_cell:\n\u001b[1;32m    201\u001b[0m     atoms \u001b[39m=\u001b[39m ExpCellFilter(atoms)\n\u001b[0;32m--> 202\u001b[0m optimizer \u001b[39m=\u001b[39m \u001b[39mself\u001b[39;49m\u001b[39m.\u001b[39;49moptimizer_class(atoms, \u001b[39m*\u001b[39;49m\u001b[39m*\u001b[39;49mkwargs)\n\u001b[1;32m    203\u001b[0m optimizer\u001b[39m.\u001b[39mattach(obs, interval\u001b[39m=\u001b[39mtrajectory_save_interval)\n\u001b[1;32m    204\u001b[0m optimizer\u001b[39m.\u001b[39mrun(fmax\u001b[39m=\u001b[39mfmax, steps\u001b[39m=\u001b[39msteps)\n",
      "File \u001b[0;32m~/.venv/py310/lib/python3.10/site-packages/ase/optimize/fire.py:54\u001b[0m, in \u001b[0;36mFIRE.__init__\u001b[0;34m(self, atoms, restart, logfile, trajectory, dt, maxstep, maxmove, dtmax, Nmin, finc, fdec, astart, fa, a, master, downhill_check, position_reset_callback, force_consistent)\u001b[0m\n\u001b[1;32m      8\u001b[0m \u001b[39mdef\u001b[39;00m \u001b[39m__init__\u001b[39m(\u001b[39mself\u001b[39m, atoms, restart\u001b[39m=\u001b[39m\u001b[39mNone\u001b[39;00m, logfile\u001b[39m=\u001b[39m\u001b[39m'\u001b[39m\u001b[39m-\u001b[39m\u001b[39m'\u001b[39m, trajectory\u001b[39m=\u001b[39m\u001b[39mNone\u001b[39;00m,\n\u001b[1;32m      9\u001b[0m              dt\u001b[39m=\u001b[39m\u001b[39m0.1\u001b[39m, maxstep\u001b[39m=\u001b[39m\u001b[39mNone\u001b[39;00m, maxmove\u001b[39m=\u001b[39m\u001b[39mNone\u001b[39;00m, dtmax\u001b[39m=\u001b[39m\u001b[39m1.0\u001b[39m, Nmin\u001b[39m=\u001b[39m\u001b[39m5\u001b[39m,\n\u001b[1;32m     10\u001b[0m              finc\u001b[39m=\u001b[39m\u001b[39m1.1\u001b[39m, fdec\u001b[39m=\u001b[39m\u001b[39m0.5\u001b[39m,\n\u001b[1;32m     11\u001b[0m              astart\u001b[39m=\u001b[39m\u001b[39m0.1\u001b[39m, fa\u001b[39m=\u001b[39m\u001b[39m0.99\u001b[39m, a\u001b[39m=\u001b[39m\u001b[39m0.1\u001b[39m, master\u001b[39m=\u001b[39m\u001b[39mNone\u001b[39;00m, downhill_check\u001b[39m=\u001b[39m\u001b[39mFalse\u001b[39;00m,\n\u001b[1;32m     12\u001b[0m              position_reset_callback\u001b[39m=\u001b[39m\u001b[39mNone\u001b[39;00m, force_consistent\u001b[39m=\u001b[39m\u001b[39mNone\u001b[39;00m):\n\u001b[1;32m     13\u001b[0m     \u001b[39m\"\"\"Parameters:\u001b[39;00m\n\u001b[1;32m     14\u001b[0m \n\u001b[1;32m     15\u001b[0m \u001b[39m    atoms: Atoms object\u001b[39;00m\n\u001b[0;32m   (...)\u001b[0m\n\u001b[1;32m     52\u001b[0m \u001b[39m        when downhill_check is True.\u001b[39;00m\n\u001b[1;32m     53\u001b[0m \u001b[39m    \"\"\"\u001b[39;00m\n\u001b[0;32m---> 54\u001b[0m     Optimizer\u001b[39m.\u001b[39;49m\u001b[39m__init__\u001b[39;49m(\u001b[39mself\u001b[39;49m, atoms, restart, logfile, trajectory,\n\u001b[1;32m     55\u001b[0m                        master, force_consistent\u001b[39m=\u001b[39;49mforce_consistent)\n\u001b[1;32m     57\u001b[0m     \u001b[39mself\u001b[39m\u001b[39m.\u001b[39mdt \u001b[39m=\u001b[39m dt\n\u001b[1;32m     59\u001b[0m     \u001b[39mself\u001b[39m\u001b[39m.\u001b[39mNsteps \u001b[39m=\u001b[39m \u001b[39m0\u001b[39m\n",
      "File \u001b[0;32m~/.venv/py310/lib/python3.10/site-packages/ase/optimize/optimize.py:234\u001b[0m, in \u001b[0;36mOptimizer.__init__\u001b[0;34m(self, atoms, restart, logfile, trajectory, master, append_trajectory, force_consistent)\u001b[0m\n\u001b[1;32m    232\u001b[0m \u001b[39mself\u001b[39m\u001b[39m.\u001b[39mforce_consistent \u001b[39m=\u001b[39m force_consistent\n\u001b[1;32m    233\u001b[0m \u001b[39mif\u001b[39;00m \u001b[39mself\u001b[39m\u001b[39m.\u001b[39mforce_consistent \u001b[39mis\u001b[39;00m \u001b[39mNone\u001b[39;00m:\n\u001b[0;32m--> 234\u001b[0m     \u001b[39mself\u001b[39;49m\u001b[39m.\u001b[39;49mset_force_consistent()\n\u001b[1;32m    236\u001b[0m \u001b[39mself\u001b[39m\u001b[39m.\u001b[39mrestart \u001b[39m=\u001b[39m restart\n\u001b[1;32m    238\u001b[0m \u001b[39m# initialize attribute\u001b[39;00m\n",
      "File \u001b[0;32m~/.venv/py310/lib/python3.10/site-packages/ase/optimize/optimize.py:325\u001b[0m, in \u001b[0;36mOptimizer.set_force_consistent\u001b[0;34m(self)\u001b[0m\n\u001b[1;32m    322\u001b[0m \u001b[39m\"\"\"Automatically sets force_consistent to True if force_consistent\u001b[39;00m\n\u001b[1;32m    323\u001b[0m \u001b[39menergies are supported by calculator; else False.\"\"\"\u001b[39;00m\n\u001b[1;32m    324\u001b[0m \u001b[39mtry\u001b[39;00m:\n\u001b[0;32m--> 325\u001b[0m     \u001b[39mself\u001b[39;49m\u001b[39m.\u001b[39;49matoms\u001b[39m.\u001b[39;49mget_potential_energy(force_consistent\u001b[39m=\u001b[39;49m\u001b[39mTrue\u001b[39;49;00m)\n\u001b[1;32m    326\u001b[0m \u001b[39mexcept\u001b[39;00m PropertyNotImplementedError:\n\u001b[1;32m    327\u001b[0m     \u001b[39mself\u001b[39m\u001b[39m.\u001b[39mforce_consistent \u001b[39m=\u001b[39m \u001b[39mFalse\u001b[39;00m\n",
      "File \u001b[0;32m~/.venv/py310/lib/python3.10/site-packages/ase/constraints.py:2420\u001b[0m, in \u001b[0;36mUnitCellFilter.get_potential_energy\u001b[0;34m(self, force_consistent)\u001b[0m\n\u001b[1;32m   2416\u001b[0m \u001b[39mdef\u001b[39;00m \u001b[39mget_potential_energy\u001b[39m(\u001b[39mself\u001b[39m, force_consistent\u001b[39m=\u001b[39m\u001b[39mTrue\u001b[39;00m):\n\u001b[1;32m   2417\u001b[0m     \u001b[39m\"\"\"\u001b[39;00m\n\u001b[1;32m   2418\u001b[0m \u001b[39m    returns potential energy including enthalpy PV term.\u001b[39;00m\n\u001b[1;32m   2419\u001b[0m \u001b[39m    \"\"\"\u001b[39;00m\n\u001b[0;32m-> 2420\u001b[0m     atoms_energy \u001b[39m=\u001b[39m \u001b[39mself\u001b[39;49m\u001b[39m.\u001b[39;49matoms\u001b[39m.\u001b[39;49mget_potential_energy(\n\u001b[1;32m   2421\u001b[0m         force_consistent\u001b[39m=\u001b[39;49mforce_consistent)\n\u001b[1;32m   2422\u001b[0m     \u001b[39mreturn\u001b[39;00m atoms_energy \u001b[39m+\u001b[39m \u001b[39mself\u001b[39m\u001b[39m.\u001b[39mscalar_pressure \u001b[39m*\u001b[39m \u001b[39mself\u001b[39m\u001b[39m.\u001b[39matoms\u001b[39m.\u001b[39mget_volume()\n",
      "File \u001b[0;32m~/.venv/py310/lib/python3.10/site-packages/ase/atoms.py:728\u001b[0m, in \u001b[0;36mAtoms.get_potential_energy\u001b[0;34m(self, force_consistent, apply_constraint)\u001b[0m\n\u001b[1;32m    726\u001b[0m     \u001b[39mraise\u001b[39;00m \u001b[39mRuntimeError\u001b[39;00m(\u001b[39m'\u001b[39m\u001b[39mAtoms object has no calculator.\u001b[39m\u001b[39m'\u001b[39m)\n\u001b[1;32m    727\u001b[0m \u001b[39mif\u001b[39;00m force_consistent:\n\u001b[0;32m--> 728\u001b[0m     energy \u001b[39m=\u001b[39m \u001b[39mself\u001b[39;49m\u001b[39m.\u001b[39;49m_calc\u001b[39m.\u001b[39;49mget_potential_energy(\n\u001b[1;32m    729\u001b[0m         \u001b[39mself\u001b[39;49m, force_consistent\u001b[39m=\u001b[39;49mforce_consistent)\n\u001b[1;32m    730\u001b[0m \u001b[39melse\u001b[39;00m:\n\u001b[1;32m    731\u001b[0m     energy \u001b[39m=\u001b[39m \u001b[39mself\u001b[39m\u001b[39m.\u001b[39m_calc\u001b[39m.\u001b[39mget_potential_energy(\u001b[39mself\u001b[39m)\n",
      "File \u001b[0;32m~/.venv/py310/lib/python3.10/site-packages/ase/calculators/calculator.py:709\u001b[0m, in \u001b[0;36mCalculator.get_potential_energy\u001b[0;34m(self, atoms, force_consistent)\u001b[0m\n\u001b[1;32m    708\u001b[0m \u001b[39mdef\u001b[39;00m \u001b[39mget_potential_energy\u001b[39m(\u001b[39mself\u001b[39m, atoms\u001b[39m=\u001b[39m\u001b[39mNone\u001b[39;00m, force_consistent\u001b[39m=\u001b[39m\u001b[39mFalse\u001b[39;00m):\n\u001b[0;32m--> 709\u001b[0m     energy \u001b[39m=\u001b[39m \u001b[39mself\u001b[39;49m\u001b[39m.\u001b[39;49mget_property(\u001b[39m'\u001b[39;49m\u001b[39menergy\u001b[39;49m\u001b[39m'\u001b[39;49m, atoms)\n\u001b[1;32m    710\u001b[0m     \u001b[39mif\u001b[39;00m force_consistent:\n\u001b[1;32m    711\u001b[0m         \u001b[39mif\u001b[39;00m \u001b[39m'\u001b[39m\u001b[39mfree_energy\u001b[39m\u001b[39m'\u001b[39m \u001b[39mnot\u001b[39;00m \u001b[39min\u001b[39;00m \u001b[39mself\u001b[39m\u001b[39m.\u001b[39mresults:\n",
      "File \u001b[0;32m~/.venv/py310/lib/python3.10/site-packages/ase/calculators/calculator.py:737\u001b[0m, in \u001b[0;36mCalculator.get_property\u001b[0;34m(self, name, atoms, allow_calculation)\u001b[0m\n\u001b[1;32m    735\u001b[0m     \u001b[39mif\u001b[39;00m \u001b[39mnot\u001b[39;00m allow_calculation:\n\u001b[1;32m    736\u001b[0m         \u001b[39mreturn\u001b[39;00m \u001b[39mNone\u001b[39;00m\n\u001b[0;32m--> 737\u001b[0m     \u001b[39mself\u001b[39;49m\u001b[39m.\u001b[39;49mcalculate(atoms, [name], system_changes)\n\u001b[1;32m    739\u001b[0m \u001b[39mif\u001b[39;00m name \u001b[39mnot\u001b[39;00m \u001b[39min\u001b[39;00m \u001b[39mself\u001b[39m\u001b[39m.\u001b[39mresults:\n\u001b[1;32m    740\u001b[0m     \u001b[39m# For some reason the calculator was not able to do what we want,\u001b[39;00m\n\u001b[1;32m    741\u001b[0m     \u001b[39m# and that is OK.\u001b[39;00m\n\u001b[1;32m    742\u001b[0m     \u001b[39mraise\u001b[39;00m PropertyNotImplementedError(\u001b[39m'\u001b[39m\u001b[39m{}\u001b[39;00m\u001b[39m not present in this \u001b[39m\u001b[39m'\u001b[39m\n\u001b[1;32m    743\u001b[0m                                       \u001b[39m'\u001b[39m\u001b[39mcalculation\u001b[39m\u001b[39m'\u001b[39m\u001b[39m.\u001b[39mformat(name))\n",
      "File \u001b[0;32m~/dev/chgnet/chgnet/model/dynamics.py:112\u001b[0m, in \u001b[0;36mCHGNetCalculator.calculate\u001b[0;34m(self, atoms, desired_properties, changed_properties)\u001b[0m\n\u001b[1;32m    110\u001b[0m structure \u001b[39m=\u001b[39m AseAtomsAdaptor\u001b[39m.\u001b[39mget_structure(atoms)\n\u001b[1;32m    111\u001b[0m graph \u001b[39m=\u001b[39m \u001b[39mself\u001b[39m\u001b[39m.\u001b[39mmodel\u001b[39m.\u001b[39mgraph_converter(structure)\n\u001b[0;32m--> 112\u001b[0m model_prediction \u001b[39m=\u001b[39m \u001b[39mself\u001b[39;49m\u001b[39m.\u001b[39;49mmodel\u001b[39m.\u001b[39;49mpredict_graph(graph\u001b[39m.\u001b[39;49mto(\u001b[39mself\u001b[39;49m\u001b[39m.\u001b[39;49mdevice), task\u001b[39m=\u001b[39;49m\u001b[39m\"\u001b[39;49m\u001b[39mefsm\u001b[39;49m\u001b[39m\"\u001b[39;49m)\n\u001b[1;32m    114\u001b[0m \u001b[39m# Convert Result\u001b[39;00m\n\u001b[1;32m    115\u001b[0m factor \u001b[39m=\u001b[39m \u001b[39m1\u001b[39m \u001b[39mif\u001b[39;00m \u001b[39mnot\u001b[39;00m \u001b[39mself\u001b[39m\u001b[39m.\u001b[39mmodel\u001b[39m.\u001b[39mis_intensive \u001b[39melse\u001b[39;00m structure\u001b[39m.\u001b[39mcomposition\u001b[39m.\u001b[39mnum_atoms\n",
      "File \u001b[0;32m~/dev/chgnet/chgnet/model/model.py:604\u001b[0m, in \u001b[0;36mCHGNet.predict_graph\u001b[0;34m(self, graph, task, return_atom_feas, return_crystal_feas, batch_size)\u001b[0m\n\u001b[1;32m    602\u001b[0m     \u001b[39mreturn\u001b[39;00m predictions\n\u001b[1;32m    603\u001b[0m \u001b[39melse\u001b[39;00m:\n\u001b[0;32m--> 604\u001b[0m     \u001b[39mraise\u001b[39;00m \u001b[39mException\u001b[39;00m(\u001b[39m\"\u001b[39m\u001b[39minput should either be a graph or list of graphs!\u001b[39m\u001b[39m\"\u001b[39m)\n",
      "\u001b[0;31mException\u001b[0m: input should either be a graph or list of graphs!"
     ]
    }
   ],
   "source": [
    "import pandas as pd\n",
    "\n",
    "from chgnet.model import StructOptimizer\n",
    "\n",
    "results = StructOptimizer().relax(structure)"
   ]
  },
  {
   "cell_type": "code",
   "execution_count": null,
   "id": "c04ebd43",
   "metadata": {},
   "outputs": [],
   "source": [
    "struct_traj: list[Structure] = []\n",
    "for idx, coords in enumerate(results[\"trajectory\"].atom_positions):\n",
    "    lattice = results[\"trajectory\"].cells[idx]\n",
    "    struct = Structure(lattice, structure.species, coords, coords_are_cartesian=True)\n",
    "    struct_traj.append(struct)\n",
    "\n",
    "e_col = \"Energy (eV)\"\n",
    "force_col = \"Force (eV/Å)\"\n",
    "vol_col = \"Volume (Å<sup>3</sup)\"\n",
    "spg_col = \"Spacegroup\"\n",
    "df_traj = pd.DataFrame(\n",
    "    {\n",
    "        e_col: results[\"trajectory\"].energies,\n",
    "        vol_col: [struct.volume for struct in struct_traj],\n",
    "        spg_col: [struct.get_space_group_info() for struct in struct_traj],\n",
    "    }\n",
    ")\n",
    "df_traj.index.name = \"step\""
   ]
  },
  {
   "cell_type": "code",
   "execution_count": null,
   "id": "e7a91576",
   "metadata": {},
   "outputs": [
    {
     "name": "stderr",
     "output_type": "stream",
     "text": [
      "Problem loading MPContribs client: Client.__init__() got an unexpected keyword argument 'session'\n"
     ]
    },
    {
     "data": {
      "application/vnd.jupyter.widget-view+json": {
       "model_id": "514a932372d24145b08003a1b5834563",
       "version_major": 2,
       "version_minor": 0
      },
      "text/plain": [
       "Retrieving ThermoDoc documents:   0%|          | 0/1 [00:00<?, ?it/s]"
      ]
     },
     "metadata": {},
     "output_type": "display_data"
    }
   ],
   "source": [
    "from pymatgen.ext.matproj import MPRester\n",
    "\n",
    "mp_id = \"mp-18767\"\n",
    "\n",
    "with MPRester() as mpr:\n",
    "    mp_doc = mpr.thermo.search(material_ids=[mp_id])[0]\n",
    "\n",
    "dft_energy = mp_doc.energy_per_atom * mp_doc.nsites"
   ]
  },
  {
   "cell_type": "code",
   "execution_count": null,
   "id": "c9f16422",
   "metadata": {},
   "outputs": [
    {
     "name": "stderr",
     "output_type": "stream",
     "text": [
      "The TEMDiffractionComponent requires the py4DSTEM package.\n"
     ]
    },
    {
     "name": "stdout",
     "output_type": "stream",
     "text": [
      "Dash is running on http://127.0.0.1:8050/\n",
      "\n"
     ]
    },
    {
     "data": {
      "text/html": [
       "\n",
       "        <iframe\n",
       "            width=\"100%\"\n",
       "            height=\"800\"\n",
       "            src=\"http://127.0.0.1:8050/\"\n",
       "            frameborder=\"0\"\n",
       "            allowfullscreen\n",
       "            \n",
       "        ></iframe>\n",
       "        "
      ],
      "text/plain": [
       "<IPython.lib.display.IFrame at 0x290fbdcf0>"
      ]
     },
     "metadata": {},
     "output_type": "display_data"
    }
   ],
   "source": [
    "import crystal_toolkit.components as ctc\n",
    "import plotly.graph_objects as go\n",
    "from crystal_toolkit.settings import SETTINGS\n",
    "from dash import dcc, html\n",
    "from dash.dependencies import Input, Output\n",
    "from jupyter_dash import JupyterDash\n",
    "from pymatgen.core import Structure\n",
    "\n",
    "app = JupyterDash(prevent_initial_callbacks=True, assets_folder=SETTINGS.ASSETS_PATH)\n",
    "\n",
    "if (\n",
    "    \"struct_layout\" not in vars()\n",
    "):  # don't create layout twice because it causes duplicate\n",
    "    # ID errors when restarting Dash app in Jupyter notebook\n",
    "    struct_comp = ctc.StructureMoleculeComponent(\n",
    "        id=\"structure\", struct_or_mol=structure\n",
    "    )\n",
    "    struct_layout = struct_comp.layout()\n",
    "\n",
    "\n",
    "step_size = max(1, len(struct_traj) // 20)  # ensure slider has max 20 steps\n",
    "slider = dcc.Slider(\n",
    "    id=\"slider\", min=0, max=len(struct_traj) - 1, step=step_size, updatemode=\"drag\"\n",
    ")\n",
    "\n",
    "\n",
    "def plot_energy_and_forces(\n",
    "    df: pd.DataFrame, step: int, e_col: str, force_col: str\n",
    ") -> go.Figure:\n",
    "    \"\"\"Plot energy and forces as a function of relaxation step.\"\"\"\n",
    "    fig = go.Figure()\n",
    "    # energy trace = primary y-axis\n",
    "    fig.add_trace(go.Scatter(x=df.index, y=df[e_col], mode=\"lines\", name=\"Energy\"))\n",
    "    # get energy line color\n",
    "    line_color = fig.data[0].line.color\n",
    "\n",
    "    # forces trace = secondary y-axis\n",
    "    fig.add_trace(\n",
    "        go.Scatter(x=df.index, y=df[force_col], mode=\"lines\", name=\"Forces\", yaxis=\"y2\")\n",
    "    )\n",
    "\n",
    "    # Set up the layout\n",
    "    fig.update_layout(\n",
    "        template=\"plotly_white\",\n",
    "        title=f\"{mp_id} - {spg_col} = {df[spg_col][step]}\",\n",
    "        xaxis=dict(title=\"Relaxation Step\"),\n",
    "        yaxis=dict(title=e_col),\n",
    "        yaxis2=dict(title=force_col, overlaying=\"y\", side=\"right\"),\n",
    "        legend=dict(orientation=\"h\", yanchor=\"bottom\", y=1.02, xanchor=\"right\", x=1),\n",
    "    )\n",
    "\n",
    "    # Add vertical line at the specified step\n",
    "    fig.add_vline(x=step, line=dict(dash=\"dash\", width=1))\n",
    "\n",
    "    # Add horizontal line for MP final energy\n",
    "    anno = dict(text=\"DFT final energy\", yanchor=\"top\")\n",
    "    fig.add_hline(\n",
    "        y=dft_energy,\n",
    "        line=dict(dash=\"dot\", width=1, color=line_color),\n",
    "        annotation=anno,\n",
    "    )\n",
    "\n",
    "    return fig\n",
    "\n",
    "\n",
    "graph = dcc.Graph(\n",
    "    id=\"fig\",\n",
    "    figure=plot_energy_and_forces(df_traj, 0, e_col, force_col),\n",
    "    style={\"maxWidth\": \"50%\"},\n",
    ")\n",
    "\n",
    "app.layout = html.Div(\n",
    "    [\n",
    "        html.H1(\n",
    "            \"Structure Relaxation Trajectory\", style=dict(margin=\"1em\", fontSize=\"2em\")\n",
    "        ),\n",
    "        html.P(\"Drag slider to see structure at different relaxation steps.\"),\n",
    "        slider,\n",
    "        html.Div([struct_comp.layout(), graph], style=dict(display=\"flex\", gap=\"2em\")),\n",
    "    ],\n",
    "    style=dict(\n",
    "        margin=\"2em auto\", placeItems=\"center\", textAlign=\"center\", maxWidth=\"1200px\"\n",
    "    ),\n",
    ")\n",
    "\n",
    "ctc.register_crystal_toolkit(app=app, layout=app.layout)\n",
    "\n",
    "\n",
    "@app.callback(\n",
    "    Output(struct_comp.id(), \"data\"), Output(graph, \"figure\"), Input(slider, \"value\")\n",
    ")\n",
    "def update_structure(step: int) -> tuple[Structure, go.Figure]:\n",
    "    \"\"\"Update the structure displayed in the StructureMoleculeComponent and the\n",
    "    dashed vertical line in the figure when the slider is moved.\n",
    "    \"\"\"\n",
    "    return struct_traj[step], plot_energy_and_forces(df_traj, step, e_col, force_col)\n",
    "\n",
    "\n",
    "app.run_server(mode=\"inline\", height=800, use_reloader=False)"
   ]
  }
 ],
 "metadata": {
  "kernelspec": {
   "display_name": "py310",
   "language": "python",
   "name": "python3"
  },
  "language_info": {
   "codemirror_mode": {
    "name": "ipython",
    "version": 3
   },
   "file_extension": ".py",
   "mimetype": "text/x-python",
   "name": "python",
   "nbconvert_exporter": "python",
   "pygments_lexer": "ipython3",
   "version": "3.10.9"
  }
 },
 "nbformat": 4,
 "nbformat_minor": 5
}

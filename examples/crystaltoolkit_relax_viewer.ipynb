{
 "cells": [
  {
   "cell_type": "markdown",
   "id": "f8c75a16",
   "metadata": {},
   "source": [
    "# Crystaltoolkit Relaxation Viewer\n",
    "\n",
    "This notebook shows how to visualize a CHGNet relaxation trajectory in a Plotly Dash app using Crystal Toolkit."
   ]
  },
  {
   "cell_type": "code",
   "execution_count": null,
   "id": "156e8031",
   "metadata": {},
   "outputs": [],
   "source": [
    "from __future__ import annotations\n",
    "\n",
    "# install CHGNet with extra dependency Crystal Toolkit to run the dash app in this notebook\n",
    "# https://github.com/materialsproject/crystaltoolkit\n",
    "# (only needed on Google Colab or if you didn't install these packages yet)\n",
    "!git clone --depth 1 https://github.com/CederGroupHub/chgnet\n",
    "!pip install ./chgnet[crystal-toolkit]"
   ]
  },
  {
   "cell_type": "code",
   "execution_count": null,
   "id": "7ead933c",
   "metadata": {},
   "outputs": [],
   "source": [
    "import numpy as np\n",
    "from pymatgen.core import Structure"
   ]
  },
  {
   "cell_type": "code",
   "execution_count": null,
   "id": "e6792912",
   "metadata": {},
   "outputs": [],
   "source": [
    "try:\n",
    "    from chgnet import ROOT\n",
    "\n",
    "    structure = Structure.from_file(f\"{ROOT}/examples/o-LiMnO2_unit.cif\")\n",
    "except Exception:\n",
    "    from urllib.request import urlopen\n",
    "\n",
    "    url = \"https://github.com/CederGroupHub/chgnet/raw/main/examples/o-LiMnO2_unit.cif\"\n",
    "    cif = urlopen(url).read().decode(\"utf-8\")\n",
    "    structure = Structure.from_str(cif, fmt=\"cif\")"
   ]
  },
  {
   "cell_type": "code",
   "execution_count": null,
   "id": "208fa4aa",
   "metadata": {},
   "outputs": [
    {
     "name": "stdout",
     "output_type": "stream",
     "text": [
      "('Pmmn', 59)\n"
     ]
    },
    {
     "data": {
      "text/plain": [
       "('P1', 1)"
      ]
     },
     "execution_count": null,
     "metadata": {},
     "output_type": "execute_result"
    }
   ],
   "source": [
    "print(structure.get_space_group_info())\n",
    "\n",
    "# perturb all atom positions by a small amount\n",
    "for site in structure:\n",
    "    site.coords += np.random.normal(size=3) * 0.3\n",
    "\n",
    "# stretch the cell by a small amount\n",
    "structure.scale_lattice(structure.volume * 1.1)\n",
    "\n",
    "structure.get_space_group_info()"
   ]
  },
  {
   "cell_type": "code",
   "execution_count": null,
   "id": "5d6e9fcc",
   "metadata": {},
   "outputs": [
    {
     "name": "stdout",
     "output_type": "stream",
     "text": [
      "CHGNet initialized with 400,438 parameters\n",
      "CHGNet will run on cpu\n",
      "      Step     Time          Energy         fmax\n",
      "*Force-consistent energies used in optimization.\n",
      "FIRE:    0 16:42:01      -52.137783*      22.3727\n",
      "FIRE:    1 16:42:01      -54.654541*       7.3535\n",
      "FIRE:    2 16:42:01      -55.012409*       6.0275\n",
      "FIRE:    3 16:42:01      -55.455532*       3.5359\n",
      "FIRE:    4 16:42:01      -55.792427*       5.8862\n",
      "FIRE:    5 16:42:01      -56.233017*       4.8161\n",
      "FIRE:    6 16:42:01      -56.729580*       3.8116\n",
      "FIRE:    7 16:42:01      -57.105877*       3.7746\n",
      "FIRE:    8 16:42:01      -57.478939*       4.3329\n",
      "FIRE:    9 16:42:01      -57.859035*       2.4245\n",
      "FIRE:   10 16:42:01      -57.905327*       5.3127\n",
      "FIRE:   11 16:42:01      -57.972210*       4.0170\n",
      "FIRE:   12 16:42:02      -58.060028*       2.1152\n",
      "FIRE:   13 16:42:02      -58.125294*       1.7038\n",
      "FIRE:   14 16:42:02      -58.166508*       2.5232\n",
      "FIRE:   15 16:42:02      -58.206398*       2.7542\n",
      "FIRE:   16 16:42:02      -58.255352*       2.3817\n",
      "FIRE:   17 16:42:02      -58.306404*       1.7640\n",
      "FIRE:   18 16:42:02      -58.351494*       1.2098\n",
      "FIRE:   19 16:42:02      -58.384529*       1.8586\n",
      "FIRE:   20 16:42:02      -58.422913*       2.1042\n",
      "FIRE:   21 16:42:02      -58.488506*       1.6826\n",
      "FIRE:   22 16:42:02      -58.557400*       0.8980\n",
      "FIRE:   23 16:42:02      -58.595379*       1.4429\n",
      "FIRE:   24 16:42:02      -58.632904*       1.4536\n",
      "FIRE:   25 16:42:02      -58.675915*       1.6082\n",
      "FIRE:   26 16:42:02      -58.721497*       1.5833\n",
      "FIRE:   27 16:42:02      -58.757092*       1.1531\n",
      "FIRE:   28 16:42:02      -58.764534*       0.9746\n",
      "FIRE:   29 16:42:02      -58.776413*       0.6774\n",
      "FIRE:   30 16:42:03      -58.788883*       0.5323\n",
      "FIRE:   31 16:42:03      -58.799919*       0.5305\n",
      "FIRE:   32 16:42:03      -58.809788*       0.5401\n",
      "FIRE:   33 16:42:03      -58.819126*       0.4950\n",
      "FIRE:   34 16:42:03      -58.827911*       0.5034\n",
      "FIRE:   35 16:42:03      -58.837193*       0.5395\n",
      "FIRE:   36 16:42:03      -58.847214*       0.4013\n",
      "FIRE:   37 16:42:03      -58.856506*       0.4407\n",
      "FIRE:   38 16:42:03      -58.864273*       0.4629\n",
      "FIRE:   39 16:42:03      -58.873669*       0.3674\n",
      "FIRE:   40 16:42:03      -58.884644*       0.4001\n",
      "FIRE:   41 16:42:03      -58.897652*       0.3019\n",
      "FIRE:   42 16:42:03      -58.911346*       0.5316\n",
      "FIRE:   43 16:42:03      -58.929382*       0.2270\n",
      "FIRE:   44 16:42:03      -58.943676*       0.3142\n",
      "FIRE:   45 16:42:03      -58.949360*       0.7842\n",
      "FIRE:   46 16:42:03      -58.952450*       0.3185\n",
      "FIRE:   47 16:42:03      -58.953571*       0.3866\n",
      "FIRE:   48 16:42:03      -58.953880*       0.3257\n",
      "FIRE:   49 16:42:04      -58.954357*       0.2145\n",
      "FIRE:   50 16:42:04      -58.954838*       0.1566\n",
      "FIRE:   51 16:42:04      -58.955208*       0.1445\n",
      "FIRE:   52 16:42:04      -58.955517*       0.1955\n",
      "FIRE:   53 16:42:04      -58.955887*       0.2443\n",
      "FIRE:   54 16:42:04      -58.956390*       0.2294\n",
      "FIRE:   55 16:42:04      -58.957043*       0.1472\n",
      "FIRE:   56 16:42:04      -58.957691*       0.1186\n",
      "FIRE:   57 16:42:04      -58.958237*       0.1390\n",
      "FIRE:   58 16:42:04      -58.958824*       0.1924\n",
      "FIRE:   59 16:42:04      -58.959641*       0.1187\n",
      "FIRE:   60 16:42:04      -58.960464*       0.1115\n",
      "FIRE:   61 16:42:04      -58.961231*       0.1731\n",
      "FIRE:   62 16:42:04      -58.962334*       0.1058\n",
      "FIRE:   63 16:42:04      -58.963463*       0.1358\n",
      "FIRE:   64 16:42:04      -58.964779*       0.1294\n",
      "FIRE:   65 16:42:04      -58.966160*       0.1334\n",
      "FIRE:   66 16:42:05      -58.967670*       0.0823\n"
     ]
    }
   ],
   "source": [
    "import pandas as pd\n",
    "\n",
    "from chgnet.model import StructOptimizer\n",
    "\n",
    "trajectory = StructOptimizer().relax(structure)[\"trajectory\"]"
   ]
  },
  {
   "cell_type": "code",
   "execution_count": null,
   "id": "c04ebd43",
   "metadata": {},
   "outputs": [],
   "source": [
    "e_col = \"Energy (eV)\"\n",
    "force_col = \"Force (eV/Å)\"\n",
    "df_traj = pd.DataFrame(trajectory.energies, columns=[e_col])\n",
    "df_traj[force_col] = [\n",
    "    np.linalg.norm(force, axis=1).mean()  # mean of norm of force on each atom\n",
    "    for force in trajectory.forces\n",
    "]\n",
    "df_traj.index.name = \"step\""
   ]
  },
  {
   "cell_type": "code",
   "execution_count": null,
   "id": "e7a91576",
   "metadata": {},
   "outputs": [
    {
     "name": "stderr",
     "output_type": "stream",
     "text": [
      "Problem loading MPContribs client: Client.__init__() got an unexpected keyword argument 'session'\n"
     ]
    },
    {
     "data": {
      "application/vnd.jupyter.widget-view+json": {
       "model_id": "fb3e7ddec999475b81063eb1ba17b74e",
       "version_major": 2,
       "version_minor": 0
      },
      "text/plain": [
       "Retrieving ThermoDoc documents:   0%|          | 0/1 [00:00<?, ?it/s]"
      ]
     },
     "metadata": {},
     "output_type": "display_data"
    },
    {
     "name": "stdout",
     "output_type": "stream",
     "text": [
      "dft_energy=-59.09\n"
     ]
    }
   ],
   "source": [
    "from pymatgen.ext.matproj import MPRester\n",
    "\n",
    "mp_id = \"mp-18767\"\n",
    "\n",
    "try:\n",
    "    # new MPRester expects len(api_key) == 32\n",
    "    with MPRester(use_document_model=False) as mpr:\n",
    "        mp_doc = mpr.thermo.search(material_ids=[mp_id])[0]\n",
    "except AttributeError:\n",
    "    # old MPRester expects len(api_key) ~= 16\n",
    "    with MPRester() as mpr:\n",
    "        mp_doc = mpr.query(mp_id, [\"energy_per_atom\", \"nsites\"])[0]\n",
    "\n",
    "dft_energy = mp_doc[\"energy_per_atom\"] * mp_doc[\"nsites\"]\n",
    "print(f\"{dft_energy=:.2f}\")"
   ]
  },
  {
   "cell_type": "code",
   "execution_count": null,
   "id": "c9f16422",
   "metadata": {},
   "outputs": [
    {
     "name": "stdout",
     "output_type": "stream",
     "text": [
      "Dash is running on http://127.0.0.1:8050/\n",
      "\n"
     ]
    },
    {
     "data": {
      "text/html": [
       "\n",
       "        <iframe\n",
       "            width=\"100%\"\n",
       "            height=\"800\"\n",
       "            src=\"http://127.0.0.1:8050/\"\n",
       "            frameborder=\"0\"\n",
       "            allowfullscreen\n",
       "            \n",
       "        ></iframe>\n",
       "        "
      ],
      "text/plain": [
       "<IPython.lib.display.IFrame at 0x2a14174f0>"
      ]
     },
     "metadata": {},
     "output_type": "display_data"
    }
   ],
   "source": [
    "import crystal_toolkit.components as ctc\n",
    "import plotly.graph_objects as go\n",
    "from crystal_toolkit.settings import SETTINGS\n",
    "from dash import dcc, html\n",
    "from dash.dependencies import Input, Output\n",
    "from jupyter_dash import JupyterDash\n",
    "from pymatgen.core import Structure\n",
    "\n",
    "app = JupyterDash(prevent_initial_callbacks=True, assets_folder=SETTINGS.ASSETS_PATH)\n",
    "\n",
    "if \"struct_layout\" not in vars():\n",
    "    # don't create layout twice because it causes duplicate\n",
    "    # ID errors when restarting Dash app in Jupyter notebook\n",
    "    struct_comp = ctc.StructureMoleculeComponent(\n",
    "        id=\"structure\", struct_or_mol=structure\n",
    "    )\n",
    "    struct_layout = struct_comp.layout()\n",
    "\n",
    "\n",
    "step_size = max(1, len(trajectory) // 20)  # ensure slider has max 20 steps\n",
    "slider = dcc.Slider(\n",
    "    id=\"slider\", min=0, max=len(trajectory) - 1, step=step_size, updatemode=\"drag\"\n",
    ")\n",
    "\n",
    "\n",
    "def plot_energy_and_forces(\n",
    "    df: pd.DataFrame, step: int, e_col: str, force_col: str, title: str\n",
    ") -> go.Figure:\n",
    "    \"\"\"Plot energy and forces as a function of relaxation step.\"\"\"\n",
    "    fig = go.Figure()\n",
    "    # energy trace = primary y-axis\n",
    "    fig.add_trace(go.Scatter(x=df.index, y=df[e_col], mode=\"lines\", name=\"Energy\"))\n",
    "    # get energy line color\n",
    "    line_color = fig.data[0].line.color\n",
    "\n",
    "    # forces trace = secondary y-axis\n",
    "    fig.add_trace(\n",
    "        go.Scatter(x=df.index, y=df[force_col], mode=\"lines\", name=\"Forces\", yaxis=\"y2\")\n",
    "    )\n",
    "\n",
    "    fig.update_layout(\n",
    "        template=\"plotly_white\",\n",
    "        title=title,\n",
    "        xaxis=dict(title=\"Relaxation Step\"),\n",
    "        yaxis=dict(title=e_col),\n",
    "        yaxis2=dict(title=force_col, overlaying=\"y\", side=\"right\"),\n",
    "        legend=dict(yanchor=\"top\", y=1, xanchor=\"right\", x=1),\n",
    "    )\n",
    "\n",
    "    # vertical line at the specified step\n",
    "    fig.add_vline(x=step, line=dict(dash=\"dash\", width=1))\n",
    "\n",
    "    # horizontal line for DFT final energy\n",
    "    anno = dict(text=\"DFT final energy\", yanchor=\"top\")\n",
    "    fig.add_hline(\n",
    "        y=dft_energy,\n",
    "        line=dict(dash=\"dot\", width=1, color=line_color),\n",
    "        annotation=anno,\n",
    "    )\n",
    "\n",
    "    return fig\n",
    "\n",
    "\n",
    "def make_title(spg: tuple[str, int]) -> str:\n",
    "    \"\"\"Return a title for the figure.\"\"\"\n",
    "    href = f\"https://materialsproject.org/materials/{mp_id}/\"\n",
    "    return f\"<a {href=}>{mp_id}</a> - {spg[0]} ({spg[1]})\"\n",
    "\n",
    "\n",
    "title = make_title(structure.get_space_group_info())\n",
    "\n",
    "graph = dcc.Graph(\n",
    "    id=\"fig\",\n",
    "    figure=plot_energy_and_forces(df_traj, 0, e_col, force_col, title),\n",
    "    style={\"maxWidth\": \"50%\"},\n",
    ")\n",
    "\n",
    "app.layout = html.Div(\n",
    "    [\n",
    "        html.H1(\n",
    "            \"Structure Relaxation Trajectory\", style=dict(margin=\"1em\", fontSize=\"2em\")\n",
    "        ),\n",
    "        html.P(\"Drag slider to see structure at different relaxation steps.\"),\n",
    "        slider,\n",
    "        html.Div([struct_comp.layout(), graph], style=dict(display=\"flex\", gap=\"2em\")),\n",
    "    ],\n",
    "    style=dict(margin=\"auto\", textAlign=\"center\", maxWidth=\"1200px\", padding=\"2em\"),\n",
    ")\n",
    "\n",
    "ctc.register_crystal_toolkit(app=app, layout=app.layout)\n",
    "\n",
    "\n",
    "@app.callback(\n",
    "    Output(struct_comp.id(), \"data\"), Output(graph, \"figure\"), Input(slider, \"value\")\n",
    ")\n",
    "def update_structure(step: int) -> tuple[Structure, go.Figure]:\n",
    "    \"\"\"Update the structure displayed in the StructureMoleculeComponent and the\n",
    "    dashed vertical line in the figure when the slider is moved.\n",
    "    \"\"\"\n",
    "    lattice = trajectory.cells[step]\n",
    "    coords = trajectory.atom_positions[step]\n",
    "    structure.lattice = lattice\n",
    "    assert len(structure) == len(coords)\n",
    "    for site, coord in zip(structure, coords):\n",
    "        site.coords = coord\n",
    "\n",
    "    title = make_title(structure.get_space_group_info())\n",
    "    fig = plot_energy_and_forces(df_traj, step, e_col, force_col, title)\n",
    "\n",
    "    return structure, fig\n",
    "\n",
    "\n",
    "app.run_server(mode=\"inline\", height=800, use_reloader=False)"
   ]
  }
 ],
 "metadata": {
  "kernelspec": {
   "display_name": "py310",
   "language": "python",
   "name": "python3"
  },
  "language_info": {
   "codemirror_mode": {
    "name": "ipython",
    "version": 3
   },
   "file_extension": ".py",
   "mimetype": "text/x-python",
   "name": "python",
   "nbconvert_exporter": "python",
   "pygments_lexer": "ipython3",
   "version": "3.11.0"
  }
 },
 "nbformat": 4,
 "nbformat_minor": 5
}
